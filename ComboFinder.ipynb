{
  "nbformat": 4,
  "nbformat_minor": 0,
  "metadata": {
    "colab": {
      "provenance": [],
      "authorship_tag": "ABX9TyNokyqPi032XCrpcqcbTjME",
      "include_colab_link": true
    },
    "kernelspec": {
      "name": "python3",
      "display_name": "Python 3"
    },
    "language_info": {
      "name": "python"
    }
  },
  "cells": [
    {
      "cell_type": "markdown",
      "metadata": {
        "id": "view-in-github",
        "colab_type": "text"
      },
      "source": [
        "<a href=\"https://colab.research.google.com/github/JaskeeratK/Combo-Finder/blob/main/ComboFinder.ipynb\" target=\"_parent\"><img src=\"https://colab.research.google.com/assets/colab-badge.svg\" alt=\"Open In Colab\"/></a>"
      ]
    },
    {
      "cell_type": "markdown",
      "source": [
        "#ComboFinder"
      ],
      "metadata": {
        "id": "iUK8Ot-7lYFu"
      }
    },
    {
      "cell_type": "markdown",
      "source": [
        "Find all the list of products whose sum-of-price is between 290 and 310.\n",
        "\n",
        "ProductList = {p1:10, p2:15, p3:20, p4:25, p5:30, p6:35, p7:50}"
      ],
      "metadata": {
        "id": "29uzRr2nlgUS"
      }
    },
    {
      "cell_type": "code",
      "source": [
        "import random as r\n",
        "prods={'p1':10, 'p2':15, 'p3':20, 'p4':25, 'p5':30, 'p6':35, 'p7':50,\n",
        "        'p8':40, 'p9':55, 'p10':60, 'p11':65, 'p12':75, 'p13':70,\n",
        "        'p14':45}\n",
        "res=set()\n",
        "iterations=1000\n",
        "for i in range(iterations):\n",
        "  set_size=r.randint(2,len(prods)-1)\n",
        "  combo_list=r.sample(list(prods.keys()),set_size)\n",
        "  combo_list.sort()\n",
        "  combo_sum=sum([prods[i] for i in combo_list])\n",
        "  if combo_sum>= 290 and combo_sum<= 310:\n",
        "      res.add(tuple(combo_list))"
      ],
      "metadata": {
        "id": "nVyDIEU7lrrl"
      },
      "execution_count": 2,
      "outputs": []
    },
    {
      "cell_type": "code",
      "source": [
        "for i in res:\n",
        "\tprint (i)"
      ],
      "metadata": {
        "colab": {
          "base_uri": "https://localhost:8080/"
        },
        "id": "0mzUQXmTo6JF",
        "outputId": "d5aa9422-b4e0-42de-9d00-082fef339838"
      },
      "execution_count": 3,
      "outputs": [
        {
          "output_type": "stream",
          "name": "stdout",
          "text": [
            "('p1', 'p10', 'p14', 'p2', 'p4', 'p5', 'p7', 'p9')\n",
            "('p10', 'p13', 'p14', 'p2', 'p3', 'p7', 'p8')\n",
            "('p11', 'p12', 'p2', 'p4', 'p5', 'p7', 'p8')\n",
            "('p1', 'p11', 'p13', 'p7', 'p8', 'p9')\n",
            "('p10', 'p11', 'p4', 'p5', 'p6', 'p7', 'p8')\n",
            "('p1', 'p12', 'p14', 'p2', 'p4', 'p5', 'p7', 'p8')\n",
            "('p10', 'p11', 'p13', 'p2', 'p3', 'p5', 'p6')\n",
            "('p1', 'p10', 'p12', 'p13', 'p3', 'p4', 'p8')\n",
            "('p13', 'p14', 'p2', 'p4', 'p7', 'p8', 'p9')\n",
            "('p1', 'p10', 'p12', 'p13', 'p14', 'p2', 'p6')\n",
            "('p10', 'p11', 'p12', 'p3', 'p6', 'p9')\n",
            "('p11', 'p12', 'p14', 'p2', 'p7', 'p8')\n",
            "('p1', 'p10', 'p12', 'p2', 'p3', 'p4', 'p7', 'p9')\n",
            "('p10', 'p13', 'p14', 'p3', 'p4', 'p5', 'p8')\n",
            "('p1', 'p10', 'p11', 'p2', 'p4', 'p5', 'p6', 'p7')\n",
            "('p11', 'p12', 'p13', 'p2', 'p4', 'p8')\n",
            "('p11', 'p2', 'p3', 'p5', 'p6', 'p7', 'p8', 'p9')\n",
            "('p1', 'p10', 'p11', 'p2', 'p3', 'p4', 'p7', 'p9')\n",
            "('p1', 'p10', 'p11', 'p13', 'p2', 'p4', 'p7')\n",
            "('p1', 'p10', 'p11', 'p12', 'p14', 'p2', 'p8')\n",
            "('p1', 'p13', 'p14', 'p6', 'p7', 'p8', 'p9')\n",
            "('p1', 'p12', 'p13', 'p14', 'p3', 'p6', 'p8')\n",
            "('p1', 'p10', 'p13', 'p2', 'p3', 'p5', 'p7', 'p9')\n",
            "('p10', 'p12', 'p13', 'p3', 'p6', 'p8')\n",
            "('p11', 'p12', 'p14', 'p6', 'p7', 'p8')\n",
            "('p12', 'p13', 'p14', 'p2', 'p4', 'p5', 'p7')\n",
            "('p11', 'p12', 'p2', 'p4', 'p6', 'p7', 'p8')\n",
            "('p1', 'p10', 'p11', 'p13', 'p2', 'p4', 'p9')\n",
            "('p11', 'p13', 'p14', 'p3', 'p7', 'p9')\n",
            "('p1', 'p10', 'p11', 'p12', 'p3', 'p4', 'p7')\n",
            "('p10', 'p11', 'p12', 'p4', 'p5', 'p7')\n",
            "('p1', 'p10', 'p11', 'p12', 'p6', 'p9')\n",
            "('p1', 'p10', 'p11', 'p12', 'p3', 'p5', 'p6')\n",
            "('p10', 'p11', 'p13', 'p4', 'p7', 'p8')\n",
            "('p10', 'p11', 'p2', 'p3', 'p4', 'p5', 'p7', 'p8')\n"
          ]
        }
      ]
    }
  ]
}